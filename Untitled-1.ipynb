{
 "cells": [
  {
   "cell_type": "code",
   "execution_count": 5,
   "metadata": {},
   "outputs": [
    {
     "name": "stdout",
     "output_type": "stream",
     "text": [
      "   user_id                       tag_liked\n",
      "0        1                           [Can]\n",
      "1        2                         [Paper]\n",
      "2        3             [Bottle Cap, Straw]\n",
      "3        4  [Can, Aluminium Foil, Cartoon]\n",
      "4        5                        [Bottle]\n"
     ]
    }
   ],
   "source": [
    "import pandas as pd\n",
    "import numpy as np\n",
    "import random\n",
    "\n",
    "# Daftar tag konten\n",
    "tags = ['Aluminium Foil', 'Bottle', 'Bottle Cap', 'Can', 'Cartoon', \n",
    "        'Cup', 'Paper', 'Straw', 'Plastic Bag', 'Wrapper']\n",
    "\n",
    "# Fungsi untuk menghasilkan daftar tag secara acak\n",
    "def generate_random_tags(tags, min_tags=1, max_tags=3):\n",
    "    return random.sample(tags, random.randint(min_tags, max_tags))\n",
    "\n",
    "# Jumlah konten\n",
    "num_contents = 1000\n",
    "\n",
    "# Generate dataset\n",
    "data = {\n",
    "    'user_id': np.arange(1, num_contents + 1),\n",
    "    'tag_liked': []\n",
    "}\n",
    "\n",
    "# Mengisi kolom text dan tags_of_content\n",
    "for _ in range(num_contents):\n",
    "    random_tags = generate_random_tags(tags)\n",
    "    data['tag_liked'].append(random_tags)\n",
    "\n",
    "# Konversi ke DataFrame\n",
    "df = pd.DataFrame(data)\n",
    "\n",
    "# Tampilkan 5 baris pertama dari dataset\n",
    "print(df.head())\n"
   ]
  },
  {
   "cell_type": "code",
   "execution_count": 7,
   "metadata": {},
   "outputs": [],
   "source": [
    "df.to_csv('C:\\\\Users\\\\Administrator\\\\Desktop\\\\bangkit capstone\\\\generated_data_v2.csv', index=False)"
   ]
  },
  {
   "cell_type": "code",
   "execution_count": 1,
   "metadata": {},
   "outputs": [
    {
     "name": "stdout",
     "output_type": "stream",
     "text": [
      "   content_id                               text          tags_of_content\n",
      "0           1                  lorem ipsum Straw                  [Straw]\n",
      "1           2                lorem ipsum Wrapper                [Wrapper]\n",
      "2           3  lorem ipsum Wrapper, Can, Cartoon  [Wrapper, Can, Cartoon]\n",
      "3           4          lorem ipsum Bottle, Paper          [Bottle, Paper]\n",
      "4           5   lorem ipsum Paper, Straw, Bottle   [Paper, Straw, Bottle]\n"
     ]
    }
   ],
   "source": [
    "import pandas as pd\n",
    "import numpy as np\n",
    "import random\n",
    "\n",
    "# Daftar tag konten\n",
    "tags = ['Aluminium Foil', 'Bottle', 'Bottle Cap', 'Can', 'Cartoon', \n",
    "        'Cup', 'Paper', 'Straw', 'Plastic Bag', 'Wrapper']\n",
    "\n",
    "# Fungsi untuk menghasilkan daftar tag secara acak\n",
    "def generate_random_tags(tags, min_tags=1, max_tags=3):\n",
    "    return random.sample(tags, random.randint(min_tags, max_tags))\n",
    "\n",
    "# Jumlah konten\n",
    "num_contents = 1000\n",
    "\n",
    "# Generate dataset\n",
    "data = {\n",
    "    'content_id': np.arange(1, num_contents + 1),\n",
    "    'text': [],\n",
    "    'tags_of_content': []\n",
    "}\n",
    "\n",
    "# Mengisi kolom text dan tags_of_content\n",
    "for _ in range(num_contents):\n",
    "    random_tags = generate_random_tags(tags)\n",
    "    text_with_tags = 'lorem ipsum ' + ', '.join(random_tags)\n",
    "    data['text'].append(text_with_tags)\n",
    "    data['tags_of_content'].append(random_tags)\n",
    "\n",
    "# Konversi ke DataFrame\n",
    "df = pd.DataFrame(data)\n",
    "\n",
    "# Tampilkan 5 baris pertama dari dataset\n",
    "print(df.head())\n",
    "\n",
    "# Simpan DataFrame ke dalam file CSV\n",
    "df.to_csv('C:\\\\Users\\\\Administrator\\\\Desktop\\\\bangkit capstone\\\\generated_content_data.csv', index=False)\n"
   ]
  },
  {
   "cell_type": "code",
   "execution_count": 5,
   "metadata": {},
   "outputs": [],
   "source": [
    "import pandas as pd\n",
    "\n",
    "# Baca CSV\n",
    "df = pd.read_csv('C:\\\\Users\\\\Administrator\\\\Desktop\\\\bangkit capstone\\\\generated_content_data.csv')\n",
    "\n",
    "# Buat header SQL untuk CREATE TABLE\n",
    "create_table_sql = '''\n",
    "CREATE TABLE content_data (\n",
    "    content_id INT PRIMARY KEY,\n",
    "    text TEXT,\n",
    "    tags_of_content TEXT\n",
    ");\n",
    "'''\n",
    "\n",
    "# Konversi data ke format SQL untuk INSERT INTO\n",
    "insert_sql = 'INSERT INTO content_data (content_id, text, tags_of_content) VALUES\\n'\n",
    "\n",
    "values = []\n",
    "for index, row in df.iterrows():\n",
    "    # Convert list of tags to PostgreSQL array format\n",
    "    tags_array = \"{\" + \",\".join(f'\"{tag}\"' for tag in eval(row['tags_of_content'])) + \"}\"\n",
    "    # Replace single quotes in the text to avoid SQL errors\n",
    "    text = row['text'].replace(\"'\", \"''\")\n",
    "    values.append(f\"({row['content_id']}, '{text}', '{tags_array}')\")\n",
    "\n",
    "insert_sql += ',\\n'.join(values) + ';'\n",
    "\n",
    "# Gabungkan SQL menjadi satu script\n",
    "full_sql = create_table_sql + '\\n' + insert_sql\n",
    "\n",
    "# Simpan ke file .sql\n",
    "with open('C:\\\\Users\\\\Administrator\\\\Desktop\\\\bangkit capstone\\\\content_data.sql', 'w') as f:\n",
    "    f.write(full_sql)"
   ]
  }
 ],
 "metadata": {
  "kernelspec": {
   "display_name": "Python 3",
   "language": "python",
   "name": "python3"
  },
  "language_info": {
   "codemirror_mode": {
    "name": "ipython",
    "version": 3
   },
   "file_extension": ".py",
   "mimetype": "text/x-python",
   "name": "python",
   "nbconvert_exporter": "python",
   "pygments_lexer": "ipython3",
   "version": "3.10.0"
  }
 },
 "nbformat": 4,
 "nbformat_minor": 2
}
